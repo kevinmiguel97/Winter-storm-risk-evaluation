{
 "cells": [
  {
   "cell_type": "code",
   "execution_count": 71,
   "metadata": {},
   "outputs": [],
   "source": [
    "# Standard libraries\n",
    "import numpy as np\n",
    "import pandas as pd\n",
    "import pandas as pd \n",
    "import warnings\n",
    "# Functions created\n",
    "from kcc_functions import *\n",
    "# Plotting libraries\n",
    "import matplotlib.pyplot as plt \n",
    "import seaborn as sns\n",
    "# Machine learning libraries\n",
    "from sklearn.model_selection import train_test_split\n",
    "from sklearn.metrics import accuracy_score, precision_score, recall_score, confusion_matrix, precision_recall_curve\n",
    "from sklearn.preprocessing import StandardScaler\n",
    "from sklearn.preprocessing import MinMaxScaler\n",
    "# Datetime libraries\n",
    "import datetime as dt"
   ]
  },
  {
   "cell_type": "markdown",
   "metadata": {},
   "source": [
    "## 0. Importing dataset and general settings"
   ]
  },
  {
   "cell_type": "code",
   "execution_count": 72,
   "metadata": {},
   "outputs": [
    {
     "data": {
      "text/plain": [
       "Index(['LocationID', 'Portfolio', 'State', 'County', 'PostalCode',\n",
       "       'Building Value', 'Other Value', 'Contents Value', 'Time Element Value',\n",
       "       'Occupancy Code', 'Construction Code', 'Stories', 'Year Built', 'AAL'],\n",
       "      dtype='object')"
      ]
     },
     "execution_count": 72,
     "metadata": {},
     "output_type": "execute_result"
    }
   ],
   "source": [
    "# Reading csv\n",
    "df_locations = pd.read_csv('KCC_Analytical_Assessment_Data.csv')\n",
    "df_locations.columns"
   ]
  },
  {
   "cell_type": "markdown",
   "metadata": {},
   "source": [
    "### Fromatting columns and assigning index col"
   ]
  },
  {
   "cell_type": "code",
   "execution_count": 73,
   "metadata": {},
   "outputs": [
    {
     "data": {
      "text/html": [
       "<div>\n",
       "<style scoped>\n",
       "    .dataframe tbody tr th:only-of-type {\n",
       "        vertical-align: middle;\n",
       "    }\n",
       "\n",
       "    .dataframe tbody tr th {\n",
       "        vertical-align: top;\n",
       "    }\n",
       "\n",
       "    .dataframe thead th {\n",
       "        text-align: right;\n",
       "    }\n",
       "</style>\n",
       "<table border=\"1\" class=\"dataframe\">\n",
       "  <thead>\n",
       "    <tr style=\"text-align: right;\">\n",
       "      <th></th>\n",
       "      <th>portfolio</th>\n",
       "      <th>state</th>\n",
       "      <th>county</th>\n",
       "      <th>postalcode</th>\n",
       "      <th>building_value</th>\n",
       "      <th>other_value</th>\n",
       "      <th>contents_value</th>\n",
       "      <th>time_element_value</th>\n",
       "      <th>occupancy_code</th>\n",
       "      <th>construction_code</th>\n",
       "      <th>stories</th>\n",
       "      <th>year_built</th>\n",
       "      <th>aal</th>\n",
       "    </tr>\n",
       "    <tr>\n",
       "      <th>id</th>\n",
       "      <th></th>\n",
       "      <th></th>\n",
       "      <th></th>\n",
       "      <th></th>\n",
       "      <th></th>\n",
       "      <th></th>\n",
       "      <th></th>\n",
       "      <th></th>\n",
       "      <th></th>\n",
       "      <th></th>\n",
       "      <th></th>\n",
       "      <th></th>\n",
       "      <th></th>\n",
       "    </tr>\n",
       "  </thead>\n",
       "  <tbody>\n",
       "    <tr>\n",
       "      <th>1</th>\n",
       "      <td>1</td>\n",
       "      <td>CO</td>\n",
       "      <td>Adams</td>\n",
       "      <td>80640</td>\n",
       "      <td>466981</td>\n",
       "      <td>83008</td>\n",
       "      <td>540206</td>\n",
       "      <td>162719</td>\n",
       "      <td>ATC-02</td>\n",
       "      <td>Wood Frame</td>\n",
       "      <td>1</td>\n",
       "      <td>1951.0</td>\n",
       "      <td>12629.37312</td>\n",
       "    </tr>\n",
       "    <tr>\n",
       "      <th>2</th>\n",
       "      <td>1</td>\n",
       "      <td>NY</td>\n",
       "      <td>Albany</td>\n",
       "      <td>12023</td>\n",
       "      <td>64173</td>\n",
       "      <td>0</td>\n",
       "      <td>58981</td>\n",
       "      <td>33734</td>\n",
       "      <td>ATC-01</td>\n",
       "      <td>MH00</td>\n",
       "      <td>1</td>\n",
       "      <td>1979.0</td>\n",
       "      <td>1863.82944</td>\n",
       "    </tr>\n",
       "    <tr>\n",
       "      <th>3</th>\n",
       "      <td>1</td>\n",
       "      <td>NY</td>\n",
       "      <td>Allegany</td>\n",
       "      <td>14895</td>\n",
       "      <td>1979933</td>\n",
       "      <td>37751</td>\n",
       "      <td>693251</td>\n",
       "      <td>1113407</td>\n",
       "      <td>ATC-02</td>\n",
       "      <td>MS00</td>\n",
       "      <td>5+</td>\n",
       "      <td>2002.0</td>\n",
       "      <td>11014.10496</td>\n",
       "    </tr>\n",
       "    <tr>\n",
       "      <th>4</th>\n",
       "      <td>1</td>\n",
       "      <td>NY</td>\n",
       "      <td>Allegany</td>\n",
       "      <td>14711</td>\n",
       "      <td>340721</td>\n",
       "      <td>86796</td>\n",
       "      <td>893703</td>\n",
       "      <td>352242</td>\n",
       "      <td>ATC-01</td>\n",
       "      <td>Wood Frame</td>\n",
       "      <td>1</td>\n",
       "      <td>2015.0</td>\n",
       "      <td>9639.14112</td>\n",
       "    </tr>\n",
       "    <tr>\n",
       "      <th>5</th>\n",
       "      <td>1</td>\n",
       "      <td>PA</td>\n",
       "      <td>Allegheny</td>\n",
       "      <td>15049</td>\n",
       "      <td>770678</td>\n",
       "      <td>14941</td>\n",
       "      <td>563245</td>\n",
       "      <td>112326</td>\n",
       "      <td>ATC-02</td>\n",
       "      <td>WD10</td>\n",
       "      <td>2</td>\n",
       "      <td>1963.0</td>\n",
       "      <td>8767.14000</td>\n",
       "    </tr>\n",
       "  </tbody>\n",
       "</table>\n",
       "</div>"
      ],
      "text/plain": [
       "    portfolio state     county  postalcode  building_value  other_value  \\\n",
       "id                                                                        \n",
       "1           1    CO      Adams       80640          466981        83008   \n",
       "2           1    NY     Albany       12023           64173            0   \n",
       "3           1    NY   Allegany       14895         1979933        37751   \n",
       "4           1    NY   Allegany       14711          340721        86796   \n",
       "5           1    PA  Allegheny       15049          770678        14941   \n",
       "\n",
       "    contents_value  time_element_value occupancy_code construction_code  \\\n",
       "id                                                                        \n",
       "1           540206              162719         ATC-02        Wood Frame   \n",
       "2            58981               33734         ATC-01              MH00   \n",
       "3           693251             1113407         ATC-02              MS00   \n",
       "4           893703              352242         ATC-01        Wood Frame   \n",
       "5           563245              112326         ATC-02              WD10   \n",
       "\n",
       "   stories  year_built          aal  \n",
       "id                                   \n",
       "1        1      1951.0  12629.37312  \n",
       "2        1      1979.0   1863.82944  \n",
       "3       5+      2002.0  11014.10496  \n",
       "4        1      2015.0   9639.14112  \n",
       "5        2      1963.0   8767.14000  "
      ]
     },
     "execution_count": 73,
     "metadata": {},
     "output_type": "execute_result"
    }
   ],
   "source": [
    "# Converte column name in lowercase and remove any spaces\n",
    "df_locations.columns = [x.lower().strip().replace(' ', '_') for x in df_locations.columns]\n",
    "df_locations.rename(columns = {'locationid': 'id'}, inplace=True)\n",
    "df_locations.set_index('id', inplace=True)\n",
    "df_locations.head()"
   ]
  },
  {
   "cell_type": "markdown",
   "metadata": {},
   "source": [
    "## 1. Exploratory data analysis and data cleaning"
   ]
  },
  {
   "cell_type": "markdown",
   "metadata": {},
   "source": [
    "### Creating Risk Count variable\n",
    "\n",
    "Assumed to be 1 for all locations"
   ]
  },
  {
   "cell_type": "code",
   "execution_count": 74,
   "metadata": {},
   "outputs": [],
   "source": [
    "df_locations['risk_count'] = 1"
   ]
  },
  {
   "cell_type": "markdown",
   "metadata": {},
   "source": [
    "### Statistical summary"
   ]
  },
  {
   "cell_type": "markdown",
   "metadata": {},
   "source": [
    "summary_stats function was created to display a summary of the most important features of our variables"
   ]
  },
  {
   "cell_type": "code",
   "execution_count": 75,
   "metadata": {},
   "outputs": [
    {
     "name": "stdout",
     "output_type": "stream",
     "text": [
      "                                                 Summary of statistics                                                  \n"
     ]
    },
    {
     "data": {
      "text/html": [
       "<div>\n",
       "<style scoped>\n",
       "    .dataframe tbody tr th:only-of-type {\n",
       "        vertical-align: middle;\n",
       "    }\n",
       "\n",
       "    .dataframe tbody tr th {\n",
       "        vertical-align: top;\n",
       "    }\n",
       "\n",
       "    .dataframe thead th {\n",
       "        text-align: right;\n",
       "    }\n",
       "</style>\n",
       "<table border=\"1\" class=\"dataframe\">\n",
       "  <thead>\n",
       "    <tr style=\"text-align: right;\">\n",
       "      <th></th>\n",
       "      <th>count</th>\n",
       "      <th>mean</th>\n",
       "      <th>std</th>\n",
       "      <th>min</th>\n",
       "      <th>25%</th>\n",
       "      <th>50%</th>\n",
       "      <th>75%</th>\n",
       "      <th>max</th>\n",
       "      <th>Missing vals</th>\n",
       "      <th># missing</th>\n",
       "      <th>Variable type</th>\n",
       "    </tr>\n",
       "  </thead>\n",
       "  <tbody>\n",
       "    <tr>\n",
       "      <th>aal</th>\n",
       "      <td>49268.0</td>\n",
       "      <td>17461.41</td>\n",
       "      <td>11651.72</td>\n",
       "      <td>773.53</td>\n",
       "      <td>9712.76</td>\n",
       "      <td>14474.73</td>\n",
       "      <td>21749.70</td>\n",
       "      <td>99533.71</td>\n",
       "      <td>False</td>\n",
       "      <td>0</td>\n",
       "      <td>float64</td>\n",
       "    </tr>\n",
       "    <tr>\n",
       "      <th>building_value</th>\n",
       "      <td>49268.0</td>\n",
       "      <td>2241552.30</td>\n",
       "      <td>2706162.58</td>\n",
       "      <td>50000.00</td>\n",
       "      <td>470555.25</td>\n",
       "      <td>927804.00</td>\n",
       "      <td>2985167.75</td>\n",
       "      <td>9999611.00</td>\n",
       "      <td>False</td>\n",
       "      <td>0</td>\n",
       "      <td>int64</td>\n",
       "    </tr>\n",
       "    <tr>\n",
       "      <th>construction_code</th>\n",
       "      <td>NaN</td>\n",
       "      <td>NaN</td>\n",
       "      <td>NaN</td>\n",
       "      <td>NaN</td>\n",
       "      <td>NaN</td>\n",
       "      <td>NaN</td>\n",
       "      <td>NaN</td>\n",
       "      <td>NaN</td>\n",
       "      <td>False</td>\n",
       "      <td>0</td>\n",
       "      <td>object</td>\n",
       "    </tr>\n",
       "    <tr>\n",
       "      <th>contents_value</th>\n",
       "      <td>49268.0</td>\n",
       "      <td>1330657.45</td>\n",
       "      <td>1257240.06</td>\n",
       "      <td>10131.00</td>\n",
       "      <td>430911.00</td>\n",
       "      <td>841083.00</td>\n",
       "      <td>1787279.25</td>\n",
       "      <td>4999454.00</td>\n",
       "      <td>False</td>\n",
       "      <td>0</td>\n",
       "      <td>int64</td>\n",
       "    </tr>\n",
       "    <tr>\n",
       "      <th>county</th>\n",
       "      <td>NaN</td>\n",
       "      <td>NaN</td>\n",
       "      <td>NaN</td>\n",
       "      <td>NaN</td>\n",
       "      <td>NaN</td>\n",
       "      <td>NaN</td>\n",
       "      <td>NaN</td>\n",
       "      <td>NaN</td>\n",
       "      <td>False</td>\n",
       "      <td>0</td>\n",
       "      <td>object</td>\n",
       "    </tr>\n",
       "    <tr>\n",
       "      <th>occupancy_code</th>\n",
       "      <td>NaN</td>\n",
       "      <td>NaN</td>\n",
       "      <td>NaN</td>\n",
       "      <td>NaN</td>\n",
       "      <td>NaN</td>\n",
       "      <td>NaN</td>\n",
       "      <td>NaN</td>\n",
       "      <td>NaN</td>\n",
       "      <td>False</td>\n",
       "      <td>0</td>\n",
       "      <td>object</td>\n",
       "    </tr>\n",
       "    <tr>\n",
       "      <th>other_value</th>\n",
       "      <td>49268.0</td>\n",
       "      <td>51249.96</td>\n",
       "      <td>28800.22</td>\n",
       "      <td>0.00</td>\n",
       "      <td>27473.00</td>\n",
       "      <td>51827.00</td>\n",
       "      <td>76056.75</td>\n",
       "      <td>99994.00</td>\n",
       "      <td>False</td>\n",
       "      <td>0</td>\n",
       "      <td>int64</td>\n",
       "    </tr>\n",
       "    <tr>\n",
       "      <th>portfolio</th>\n",
       "      <td>49268.0</td>\n",
       "      <td>1.50</td>\n",
       "      <td>0.50</td>\n",
       "      <td>1.00</td>\n",
       "      <td>1.00</td>\n",
       "      <td>2.00</td>\n",
       "      <td>2.00</td>\n",
       "      <td>2.00</td>\n",
       "      <td>False</td>\n",
       "      <td>0</td>\n",
       "      <td>int64</td>\n",
       "    </tr>\n",
       "    <tr>\n",
       "      <th>postalcode</th>\n",
       "      <td>49268.0</td>\n",
       "      <td>42265.10</td>\n",
       "      <td>27071.25</td>\n",
       "      <td>501.00</td>\n",
       "      <td>14850.00</td>\n",
       "      <td>45745.00</td>\n",
       "      <td>62675.00</td>\n",
       "      <td>88595.00</td>\n",
       "      <td>False</td>\n",
       "      <td>0</td>\n",
       "      <td>int64</td>\n",
       "    </tr>\n",
       "    <tr>\n",
       "      <th>risk_count</th>\n",
       "      <td>49268.0</td>\n",
       "      <td>1.00</td>\n",
       "      <td>0.00</td>\n",
       "      <td>1.00</td>\n",
       "      <td>1.00</td>\n",
       "      <td>1.00</td>\n",
       "      <td>1.00</td>\n",
       "      <td>1.00</td>\n",
       "      <td>False</td>\n",
       "      <td>0</td>\n",
       "      <td>int64</td>\n",
       "    </tr>\n",
       "    <tr>\n",
       "      <th>state</th>\n",
       "      <td>NaN</td>\n",
       "      <td>NaN</td>\n",
       "      <td>NaN</td>\n",
       "      <td>NaN</td>\n",
       "      <td>NaN</td>\n",
       "      <td>NaN</td>\n",
       "      <td>NaN</td>\n",
       "      <td>NaN</td>\n",
       "      <td>False</td>\n",
       "      <td>0</td>\n",
       "      <td>object</td>\n",
       "    </tr>\n",
       "    <tr>\n",
       "      <th>stories</th>\n",
       "      <td>NaN</td>\n",
       "      <td>NaN</td>\n",
       "      <td>NaN</td>\n",
       "      <td>NaN</td>\n",
       "      <td>NaN</td>\n",
       "      <td>NaN</td>\n",
       "      <td>NaN</td>\n",
       "      <td>NaN</td>\n",
       "      <td>True</td>\n",
       "      <td>2</td>\n",
       "      <td>object</td>\n",
       "    </tr>\n",
       "    <tr>\n",
       "      <th>time_element_value</th>\n",
       "      <td>49268.0</td>\n",
       "      <td>2164389.26</td>\n",
       "      <td>2686497.25</td>\n",
       "      <td>10041.00</td>\n",
       "      <td>424967.50</td>\n",
       "      <td>892667.50</td>\n",
       "      <td>2666418.75</td>\n",
       "      <td>9998736.00</td>\n",
       "      <td>False</td>\n",
       "      <td>0</td>\n",
       "      <td>int64</td>\n",
       "    </tr>\n",
       "    <tr>\n",
       "      <th>year_built</th>\n",
       "      <td>49267.0</td>\n",
       "      <td>1984.39</td>\n",
       "      <td>20.15</td>\n",
       "      <td>1950.00</td>\n",
       "      <td>1967.00</td>\n",
       "      <td>1984.00</td>\n",
       "      <td>2002.00</td>\n",
       "      <td>2019.00</td>\n",
       "      <td>True</td>\n",
       "      <td>1</td>\n",
       "      <td>float64</td>\n",
       "    </tr>\n",
       "  </tbody>\n",
       "</table>\n",
       "</div>"
      ],
      "text/plain": [
       "                      count        mean         std       min        25%  \\\n",
       "aal                 49268.0    17461.41    11651.72    773.53    9712.76   \n",
       "building_value      49268.0  2241552.30  2706162.58  50000.00  470555.25   \n",
       "construction_code       NaN         NaN         NaN       NaN        NaN   \n",
       "contents_value      49268.0  1330657.45  1257240.06  10131.00  430911.00   \n",
       "county                  NaN         NaN         NaN       NaN        NaN   \n",
       "occupancy_code          NaN         NaN         NaN       NaN        NaN   \n",
       "other_value         49268.0    51249.96    28800.22      0.00   27473.00   \n",
       "portfolio           49268.0        1.50        0.50      1.00       1.00   \n",
       "postalcode          49268.0    42265.10    27071.25    501.00   14850.00   \n",
       "risk_count          49268.0        1.00        0.00      1.00       1.00   \n",
       "state                   NaN         NaN         NaN       NaN        NaN   \n",
       "stories                 NaN         NaN         NaN       NaN        NaN   \n",
       "time_element_value  49268.0  2164389.26  2686497.25  10041.00  424967.50   \n",
       "year_built          49267.0     1984.39       20.15   1950.00    1967.00   \n",
       "\n",
       "                          50%         75%         max  Missing vals  \\\n",
       "aal                  14474.73    21749.70    99533.71         False   \n",
       "building_value      927804.00  2985167.75  9999611.00         False   \n",
       "construction_code         NaN         NaN         NaN         False   \n",
       "contents_value      841083.00  1787279.25  4999454.00         False   \n",
       "county                    NaN         NaN         NaN         False   \n",
       "occupancy_code            NaN         NaN         NaN         False   \n",
       "other_value          51827.00    76056.75    99994.00         False   \n",
       "portfolio                2.00        2.00        2.00         False   \n",
       "postalcode           45745.00    62675.00    88595.00         False   \n",
       "risk_count               1.00        1.00        1.00         False   \n",
       "state                     NaN         NaN         NaN         False   \n",
       "stories                   NaN         NaN         NaN          True   \n",
       "time_element_value  892667.50  2666418.75  9998736.00         False   \n",
       "year_built            1984.00     2002.00     2019.00          True   \n",
       "\n",
       "                    # missing Variable type  \n",
       "aal                         0       float64  \n",
       "building_value              0         int64  \n",
       "construction_code           0        object  \n",
       "contents_value              0         int64  \n",
       "county                      0        object  \n",
       "occupancy_code              0        object  \n",
       "other_value                 0         int64  \n",
       "portfolio                   0         int64  \n",
       "postalcode                  0         int64  \n",
       "risk_count                  0         int64  \n",
       "state                       0        object  \n",
       "stories                     2        object  \n",
       "time_element_value          0         int64  \n",
       "year_built                  1       float64  "
      ]
     },
     "execution_count": 75,
     "metadata": {},
     "output_type": "execute_result"
    }
   ],
   "source": [
    "summary_stats(df_locations, 'Summary of statistics')"
   ]
  },
  {
   "cell_type": "markdown",
   "metadata": {},
   "source": [
    "### Data types\n",
    "In terms of data types, most of the variable make logical sense. The only case where there is an issue is with the stories column. It is something to keep in mind during the data cleaning process."
   ]
  },
  {
   "cell_type": "markdown",
   "metadata": {},
   "source": [
    "### Handling missing values\n",
    "\n",
    "Stories and year built are the only variables that contain any missing values, with 2 and one cases respectively\n",
    "\n",
    "**Stories missing values**\n",
    "\n",
    "Since the min value of stories is 1, it is possible that missing values represent that there have been no stories. Missing values will be replaces with a 0. "
   ]
  },
  {
   "cell_type": "code",
   "execution_count": 76,
   "metadata": {},
   "outputs": [],
   "source": [
    "df_locations['stories'] = df_locations['stories'].fillna(0)"
   ]
  },
  {
   "cell_type": "markdown",
   "metadata": {},
   "source": [
    "**year_built**\n",
    "\n",
    "This value is harder to fill, as we could use a bunch of different methods to estimate the age of the building based on the rest of the variables. For now we will just drop it, since it is only one observation, and store it in a variable called missing_year and see if we can fill it later in the analysis."
   ]
  },
  {
   "cell_type": "code",
   "execution_count": 77,
   "metadata": {},
   "outputs": [],
   "source": [
    "df_locations = df_locations.dropna()"
   ]
  },
  {
   "cell_type": "markdown",
   "metadata": {},
   "source": [
    "### Individual variables analysis"
   ]
  },
  {
   "cell_type": "markdown",
   "metadata": {},
   "source": [
    "**portfolio**\n",
    "Balanced portfolio"
   ]
  },
  {
   "cell_type": "code",
   "execution_count": 78,
   "metadata": {},
   "outputs": [
    {
     "data": {
      "image/png": "[encoded data removed]",
      "text/plain": [
       "<Figure size 252x252 with 1 Axes>"
      ]
     },
     "metadata": {},
     "output_type": "display_data"
    }
   ],
   "source": [
    "df_locations['portfolio'].unique()\n",
    "\n",
    "plot_piechart(df_locations, 'portfolio', colors=['forestgreen', 'darkred'])"
   ]
  },
  {
   "cell_type": "markdown",
   "metadata": {},
   "source": [
    "**state**"
   ]
  },
  {
   "cell_type": "code",
   "execution_count": 79,
   "metadata": {},
   "outputs": [
    {
     "name": "stdout",
     "output_type": "stream",
     "text": [
      "Number of states: 10\n",
      "['CO', 'NY', 'PA', 'TX', 'OH', 'MA', 'MI', 'WI', 'NJ', 'IL']\n"
     ]
    },
    {
     "data": {
      "image/png": "[encoded data removed]",
      "text/plain": [
       "<Figure size 252x252 with 1 Axes>"
      ]
     },
     "metadata": {},
     "output_type": "display_data"
    }
   ],
   "source": [
    "# Analyzing number of states\n",
    "print('Number of states:', len(df_locations['state'].unique()))\n",
    "print([x for x in df_locations['state'].unique()])\n",
    "plot_piechart(df_locations, 'state')"
   ]
  },
  {
   "cell_type": "markdown",
   "metadata": {},
   "source": [
    "**county**\n",
    "\n",
    "647 different counties"
   ]
  },
  {
   "cell_type": "code",
   "execution_count": 80,
   "metadata": {},
   "outputs": [
    {
     "data": {
      "text/plain": [
       "647"
      ]
     },
     "execution_count": 80,
     "metadata": {},
     "output_type": "execute_result"
    }
   ],
   "source": [
    "len(df_locations['county'].unique())"
   ]
  },
  {
   "cell_type": "markdown",
   "metadata": {},
   "source": [
    "**insured values**"
   ]
  },
  {
   "cell_type": "code",
   "execution_count": 81,
   "metadata": {},
   "outputs": [
    {
     "data": {
      "image/png": "[encoded data removed]",
      "text/plain": [
       "<Figure size 792x576 with 4 Axes>"
      ]
     },
     "metadata": {
      "needs_background": "light"
     },
     "output_type": "display_data"
    }
   ],
   "source": [
    "values = ['building_value', 'other_value', 'contents_value', 'time_element_value']\n",
    "plot_boxes(df_locations[values], rows=2, cols=2)"
   ]
  },
  {
   "cell_type": "markdown",
   "metadata": {},
   "source": [
    "**occupancy code**\n",
    "\n",
    "Four codes evenly balanced"
   ]
  },
  {
   "cell_type": "code",
   "execution_count": 82,
   "metadata": {},
   "outputs": [
    {
     "data": {
      "image/png": "[encoded data removed]",
      "text/plain": [
       "<Figure size 252x252 with 1 Axes>"
      ]
     },
     "metadata": {},
     "output_type": "display_data"
    }
   ],
   "source": [
    "plot_piechart(df_locations, 'occupancy_code')"
   ]
  },
  {
   "cell_type": "markdown",
   "metadata": {},
   "source": [
    "**construction code**"
   ]
  },
  {
   "cell_type": "code",
   "execution_count": 83,
   "metadata": {},
   "outputs": [
    {
     "data": {
      "image/png": "[encoded data removed]",
      "text/plain": [
       "<Figure size 252x252 with 1 Axes>"
      ]
     },
     "metadata": {},
     "output_type": "display_data"
    }
   ],
   "source": [
    "plot_piechart(df_locations, 'construction_code')"
   ]
  },
  {
   "cell_type": "markdown",
   "metadata": {},
   "source": [
    "**stories**\n",
    "We have 2 issues:\n",
    "\n",
    "- Data groups values higuer than 5 with 5+\n",
    "\n",
    "- Data groups values higuer than 10 with 'Over 10'\n",
    "\n",
    "KCC has its own way to segment stories as follows:\n",
    "\n",
    "• Small: Buildings with 1 to 3 stories\n",
    "\n",
    "• Medium: Buildings with 4 to 7 stories\n",
    "\n",
    "• Large: Buildings with 8 or more stories\n"
   ]
  },
  {
   "cell_type": "code",
   "execution_count": 84,
   "metadata": {},
   "outputs": [
    {
     "data": {
      "text/plain": [
       "array(['1', '5+', '2', '3', '4', '5', '6', 0, 'Over 10', '8', '10'],\n",
       "      dtype=object)"
      ]
     },
     "execution_count": 84,
     "metadata": {},
     "output_type": "execute_result"
    }
   ],
   "source": [
    "df_locations['stories'].unique()"
   ]
  },
  {
   "cell_type": "code",
   "execution_count": 85,
   "metadata": {},
   "outputs": [],
   "source": [
    "df_locations.dtypes\n",
    "df_locations['stories'] = df_locations['stories'].str.replace('+', '', regex=True)"
   ]
  },
  {
   "cell_type": "markdown",
   "metadata": {},
   "source": [
    "**year built**\n",
    "\n",
    "We are substituting the year built variable for the age of the building today, generating variable age"
   ]
  },
  {
   "cell_type": "code",
   "execution_count": 86,
   "metadata": {},
   "outputs": [
    {
     "data": {
      "text/html": [
       "<div>\n",
       "<style scoped>\n",
       "    .dataframe tbody tr th:only-of-type {\n",
       "        vertical-align: middle;\n",
       "    }\n",
       "\n",
       "    .dataframe tbody tr th {\n",
       "        vertical-align: top;\n",
       "    }\n",
       "\n",
       "    .dataframe thead th {\n",
       "        text-align: right;\n",
       "    }\n",
       "</style>\n",
       "<table border=\"1\" class=\"dataframe\">\n",
       "  <thead>\n",
       "    <tr style=\"text-align: right;\">\n",
       "      <th></th>\n",
       "      <th>portfolio</th>\n",
       "      <th>state</th>\n",
       "      <th>county</th>\n",
       "      <th>postalcode</th>\n",
       "      <th>building_value</th>\n",
       "      <th>other_value</th>\n",
       "      <th>contents_value</th>\n",
       "      <th>time_element_value</th>\n",
       "      <th>occupancy_code</th>\n",
       "      <th>construction_code</th>\n",
       "      <th>stories</th>\n",
       "      <th>aal</th>\n",
       "      <th>risk_count</th>\n",
       "      <th>age</th>\n",
       "    </tr>\n",
       "    <tr>\n",
       "      <th>id</th>\n",
       "      <th></th>\n",
       "      <th></th>\n",
       "      <th></th>\n",
       "      <th></th>\n",
       "      <th></th>\n",
       "      <th></th>\n",
       "      <th></th>\n",
       "      <th></th>\n",
       "      <th></th>\n",
       "      <th></th>\n",
       "      <th></th>\n",
       "      <th></th>\n",
       "      <th></th>\n",
       "      <th></th>\n",
       "    </tr>\n",
       "  </thead>\n",
       "  <tbody>\n",
       "    <tr>\n",
       "      <th>1</th>\n",
       "      <td>1</td>\n",
       "      <td>CO</td>\n",
       "      <td>Adams</td>\n",
       "      <td>80640</td>\n",
       "      <td>466981</td>\n",
       "      <td>83008</td>\n",
       "      <td>540206</td>\n",
       "      <td>162719</td>\n",
       "      <td>ATC-02</td>\n",
       "      <td>Wood Frame</td>\n",
       "      <td>1</td>\n",
       "      <td>12629.37312</td>\n",
       "      <td>1</td>\n",
       "      <td>53</td>\n",
       "    </tr>\n",
       "    <tr>\n",
       "      <th>2</th>\n",
       "      <td>1</td>\n",
       "      <td>NY</td>\n",
       "      <td>Albany</td>\n",
       "      <td>12023</td>\n",
       "      <td>64173</td>\n",
       "      <td>0</td>\n",
       "      <td>58981</td>\n",
       "      <td>33734</td>\n",
       "      <td>ATC-01</td>\n",
       "      <td>MH00</td>\n",
       "      <td>1</td>\n",
       "      <td>1863.82944</td>\n",
       "      <td>1</td>\n",
       "      <td>53</td>\n",
       "    </tr>\n",
       "    <tr>\n",
       "      <th>3</th>\n",
       "      <td>1</td>\n",
       "      <td>NY</td>\n",
       "      <td>Allegany</td>\n",
       "      <td>14895</td>\n",
       "      <td>1979933</td>\n",
       "      <td>37751</td>\n",
       "      <td>693251</td>\n",
       "      <td>1113407</td>\n",
       "      <td>ATC-02</td>\n",
       "      <td>MS00</td>\n",
       "      <td>5</td>\n",
       "      <td>11014.10496</td>\n",
       "      <td>1</td>\n",
       "      <td>53</td>\n",
       "    </tr>\n",
       "    <tr>\n",
       "      <th>4</th>\n",
       "      <td>1</td>\n",
       "      <td>NY</td>\n",
       "      <td>Allegany</td>\n",
       "      <td>14711</td>\n",
       "      <td>340721</td>\n",
       "      <td>86796</td>\n",
       "      <td>893703</td>\n",
       "      <td>352242</td>\n",
       "      <td>ATC-01</td>\n",
       "      <td>Wood Frame</td>\n",
       "      <td>1</td>\n",
       "      <td>9639.14112</td>\n",
       "      <td>1</td>\n",
       "      <td>53</td>\n",
       "    </tr>\n",
       "    <tr>\n",
       "      <th>5</th>\n",
       "      <td>1</td>\n",
       "      <td>PA</td>\n",
       "      <td>Allegheny</td>\n",
       "      <td>15049</td>\n",
       "      <td>770678</td>\n",
       "      <td>14941</td>\n",
       "      <td>563245</td>\n",
       "      <td>112326</td>\n",
       "      <td>ATC-02</td>\n",
       "      <td>WD10</td>\n",
       "      <td>2</td>\n",
       "      <td>8767.14000</td>\n",
       "      <td>1</td>\n",
       "      <td>53</td>\n",
       "    </tr>\n",
       "  </tbody>\n",
       "</table>\n",
       "</div>"
      ],
      "text/plain": [
       "    portfolio state     county  postalcode  building_value  other_value  \\\n",
       "id                                                                        \n",
       "1           1    CO      Adams       80640          466981        83008   \n",
       "2           1    NY     Albany       12023           64173            0   \n",
       "3           1    NY   Allegany       14895         1979933        37751   \n",
       "4           1    NY   Allegany       14711          340721        86796   \n",
       "5           1    PA  Allegheny       15049          770678        14941   \n",
       "\n",
       "    contents_value  time_element_value occupancy_code construction_code  \\\n",
       "id                                                                        \n",
       "1           540206              162719         ATC-02        Wood Frame   \n",
       "2            58981               33734         ATC-01              MH00   \n",
       "3           693251             1113407         ATC-02              MS00   \n",
       "4           893703              352242         ATC-01        Wood Frame   \n",
       "5           563245              112326         ATC-02              WD10   \n",
       "\n",
       "   stories          aal  risk_count  age  \n",
       "id                                        \n",
       "1        1  12629.37312           1   53  \n",
       "2        1   1863.82944           1   53  \n",
       "3        5  11014.10496           1   53  \n",
       "4        1   9639.14112           1   53  \n",
       "5        2   8767.14000           1   53  "
      ]
     },
     "execution_count": 86,
     "metadata": {},
     "output_type": "execute_result"
    }
   ],
   "source": [
    "df_locations = calculate_age(df_locations, 'year_built')\n",
    "df_locations.head()"
   ]
  },
  {
   "cell_type": "markdown",
   "metadata": {},
   "source": [
    "**aal**"
   ]
  },
  {
   "cell_type": "code",
   "execution_count": 93,
   "metadata": {},
   "outputs": [
    {
     "name": "stderr",
     "output_type": "stream",
     "text": [
      "c:\\Users\\kevmi\\anaconda3\\lib\\site-packages\\seaborn\\_decorators.py:36: FutureWarning: Pass the following variable as a keyword arg: x. From version 0.12, the only valid positional argument will be `data`, and passing other arguments without an explicit keyword will result in an error or misinterpretation.\n",
      "  warnings.warn(\n"
     ]
    },
    {
     "data": {
      "text/plain": [
       "<AxesSubplot:xlabel='aal'>"
      ]
     },
     "execution_count": 93,
     "metadata": {},
     "output_type": "execute_result"
    },
    {
     "data": {
      "image/png": "[encoded data removed]",
      "text/plain": [
       "<Figure size 432x288 with 1 Axes>"
      ]
     },
     "metadata": {
      "needs_background": "light"
     },
     "output_type": "display_data"
    }
   ],
   "source": [
    "sns.boxplot(df_locations['aal'])"
   ]
  },
  {
   "cell_type": "code",
   "execution_count": null,
   "metadata": {},
   "outputs": [],
   "source": []
  }
 ],
 "metadata": {
  "kernelspec": {
   "display_name": "Python 3.8.5 ('base')",
   "language": "python",
   "name": "python3"
  },
  "language_info": {
   "codemirror_mode": {
    "name": "ipython",
    "version": 3
   },
   "file_extension": ".py",
   "mimetype": "text/x-python",
   "name": "python",
   "nbconvert_exporter": "python",
   "pygments_lexer": "ipython3",
   "version": "3.8.5"
  },
  "orig_nbformat": 4,
  "vscode": {
   "interpreter": {
    "hash": "1d351383e3a3e9844000d51d8da6adb7ecd27d1d098cfd3c624cba52e341892c"
   }
  }
 },
 "nbformat": 4,
 "nbformat_minor": 2
}
